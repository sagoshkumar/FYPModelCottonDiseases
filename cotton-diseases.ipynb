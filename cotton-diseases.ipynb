{
 "cells": [
  {
   "cell_type": "code",
   "execution_count": null,
   "id": "3a922512",
   "metadata": {
    "execution": {
     "iopub.execute_input": "2022-12-21T19:30:33.441436Z",
     "iopub.status.busy": "2022-12-21T19:30:33.440533Z",
     "iopub.status.idle": "2022-12-21T19:30:44.802625Z",
     "shell.execute_reply": "2022-12-21T19:30:44.801607Z"
    },
    "papermill": {
     "duration": 11.373648,
     "end_time": "2022-12-21T19:30:44.805227",
     "exception": false,
     "start_time": "2022-12-21T19:30:33.431579",
     "status": "completed"
    },
    "tags": []
   },
   "outputs": [],
   "source": [
    "from tensorflow.keras.optimizers import Adam\n",
    "import matplotlib.pyplot as plt\n",
    "from tensorflow.keras.preprocessing import image\n",
    "import numpy as np\n",
    "from tensorflow.keras.preprocessing.image import ImageDataGenerator\n",
    "from tensorflow.keras.models import Sequential\n",
    "from tensorflow.keras.layers import Conv2D, MaxPooling2D, Flatten, Dense,Dropout\n",
    "from sklearn.metrics import confusion_matrix\n",
    "from sklearn.metrics import classification_report\n",
    "from sklearn.metrics import confusion_matrix\n",
    "from sklearn.metrics import ConfusionMatrixDisplay\n",
    "import tensorflow as tf \n",
    "from tensorflow.keras import models,layers\n",
    "import keras "
   ]
  },
  {
   "cell_type": "code",
   "execution_count": null,
   "id": "bfddd35a",
   "metadata": {
    "execution": {
     "iopub.execute_input": "2022-12-21T19:30:44.818435Z",
     "iopub.status.busy": "2022-12-21T19:30:44.817805Z",
     "iopub.status.idle": "2022-12-21T19:30:44.822269Z",
     "shell.execute_reply": "2022-12-21T19:30:44.821328Z"
    },
    "papermill": {
     "duration": 0.013063,
     "end_time": "2022-12-21T19:30:44.824275",
     "exception": false,
     "start_time": "2022-12-21T19:30:44.811212",
     "status": "completed"
    },
    "tags": []
   },
   "outputs": [],
   "source": [
    "train_data_path = 'C:/Users/sagos/Desktop/Model/CottonDisease/train'\n",
    "test_data_path = 'C:/Users/sagos/Desktop/Model/CottonDisease/test'\n",
    "val_data_path = 'C:/Users/sagos/Desktop/Model/CottonDisease/val'"
   ]
  },
  {
   "cell_type": "code",
   "execution_count": null,
   "id": "c958b3e2",
   "metadata": {
    "execution": {
     "iopub.execute_input": "2022-12-21T19:30:44.837219Z",
     "iopub.status.busy": "2022-12-21T19:30:44.836368Z",
     "iopub.status.idle": "2022-12-21T19:30:44.841862Z",
     "shell.execute_reply": "2022-12-21T19:30:44.841082Z"
    },
    "papermill": {
     "duration": 0.014,
     "end_time": "2022-12-21T19:30:44.843778",
     "exception": false,
     "start_time": "2022-12-21T19:30:44.829778",
     "status": "completed"
    },
    "tags": []
   },
   "outputs": [],
   "source": [
    "def plotImages(images_arr):\n",
    "    fig, axes = plt.subplots(1, 5, figsize=(20, 20))\n",
    "    axes = axes.flatten()\n",
    "    for img, ax in zip(images_arr, axes):\n",
    "        ax.imshow(img)\n",
    "    plt.tight_layout()\n",
    "    plt.show()"
   ]
  },
  {
   "cell_type": "code",
   "execution_count": null,
   "id": "e7a9c5cd",
   "metadata": {
    "execution": {
     "iopub.execute_input": "2022-12-21T19:30:44.856479Z",
     "iopub.status.busy": "2022-12-21T19:30:44.856233Z",
     "iopub.status.idle": "2022-12-21T19:30:44.860441Z",
     "shell.execute_reply": "2022-12-21T19:30:44.859480Z"
    },
    "papermill": {
     "duration": 0.012936,
     "end_time": "2022-12-21T19:30:44.862319",
     "exception": false,
     "start_time": "2022-12-21T19:30:44.849383",
     "status": "completed"
    },
    "tags": []
   },
   "outputs": [],
   "source": [
    "img_size = 224\n",
    "batch_size = 32\n",
    "channels = 3"
   ]
  },
  {
   "cell_type": "code",
   "execution_count": null,
   "id": "8418e8be",
   "metadata": {
    "execution": {
     "iopub.execute_input": "2022-12-21T19:30:44.874871Z",
     "iopub.status.busy": "2022-12-21T19:30:44.874142Z",
     "iopub.status.idle": "2022-12-21T19:30:44.879351Z",
     "shell.execute_reply": "2022-12-21T19:30:44.878506Z"
    },
    "papermill": {
     "duration": 0.013384,
     "end_time": "2022-12-21T19:30:44.881222",
     "exception": false,
     "start_time": "2022-12-21T19:30:44.867838",
     "status": "completed"
    },
    "tags": []
   },
   "outputs": [],
   "source": [
    "training_datagen = ImageDataGenerator(rescale=1./255,\n",
    "                                      rotation_range=40,\n",
    "                                      width_shift_range=0.2,\n",
    "                                      height_shift_range=0.2,\n",
    "                                      shear_range=0.2,\n",
    "                                      zoom_range=0.2,\n",
    "                                      horizontal_flip=True,\n",
    "                                      fill_mode='nearest')"
   ]
  },
  {
   "cell_type": "code",
   "execution_count": null,
   "id": "e2158843",
   "metadata": {
    "execution": {
     "iopub.execute_input": "2022-12-21T19:30:44.893929Z",
     "iopub.status.busy": "2022-12-21T19:30:44.893210Z",
     "iopub.status.idle": "2022-12-21T19:30:45.418820Z",
     "shell.execute_reply": "2022-12-21T19:30:45.416112Z"
    },
    "papermill": {
     "duration": 0.53404,
     "end_time": "2022-12-21T19:30:45.420911",
     "exception": false,
     "start_time": "2022-12-21T19:30:44.886871",
     "status": "completed"
    },
    "tags": []
   },
   "outputs": [],
   "source": [
    "training_data = training_datagen.flow_from_directory(train_data_path, \n",
    "                                      target_size=(img_size,img_size),\n",
    "                                      batch_size=batch_size,\n",
    "                                      class_mode='categorical')"
   ]
  },
  {
   "cell_type": "code",
   "execution_count": null,
   "id": "290ea841",
   "metadata": {
    "execution": {
     "iopub.execute_input": "2022-12-21T19:30:45.434226Z",
     "iopub.status.busy": "2022-12-21T19:30:45.433373Z",
     "iopub.status.idle": "2022-12-21T19:30:45.545518Z",
     "shell.execute_reply": "2022-12-21T19:30:45.544303Z"
    },
    "papermill": {
     "duration": 0.120839,
     "end_time": "2022-12-21T19:30:45.547596",
     "exception": false,
     "start_time": "2022-12-21T19:30:45.426757",
     "status": "completed"
    },
    "tags": []
   },
   "outputs": [],
   "source": [
    "val_data = training_datagen.flow_from_directory(val_data_path, \n",
    "                                      target_size=(img_size,img_size), \n",
    "                                      batch_size=batch_size,\n",
    "                                      class_mode='categorical')"
   ]
  },
  {
   "cell_type": "code",
   "execution_count": null,
   "id": "96a36ce4",
   "metadata": {
    "execution": {
     "iopub.execute_input": "2022-12-21T19:30:45.562816Z",
     "iopub.status.busy": "2022-12-21T19:30:45.561123Z",
     "iopub.status.idle": "2022-12-21T19:30:45.566558Z",
     "shell.execute_reply": "2022-12-21T19:30:45.565674Z"
    },
    "papermill": {
     "duration": 0.013923,
     "end_time": "2022-12-21T19:30:45.568488",
     "exception": false,
     "start_time": "2022-12-21T19:30:45.554565",
     "status": "completed"
    },
    "tags": []
   },
   "outputs": [],
   "source": [
    "test_datagen = ImageDataGenerator(rescale =1./255)"
   ]
  },
  {
   "cell_type": "code",
   "execution_count": null,
   "id": "92e8c13c",
   "metadata": {
    "execution": {
     "iopub.execute_input": "2022-12-21T19:30:45.581384Z",
     "iopub.status.busy": "2022-12-21T19:30:45.580498Z",
     "iopub.status.idle": "2022-12-21T19:30:45.692445Z",
     "shell.execute_reply": "2022-12-21T19:30:45.691072Z"
    },
    "papermill": {
     "duration": 0.120912,
     "end_time": "2022-12-21T19:30:45.695020",
     "exception": false,
     "start_time": "2022-12-21T19:30:45.574108",
     "status": "completed"
    },
    "tags": []
   },
   "outputs": [],
   "source": [
    "test_data = test_datagen.flow_from_directory(test_data_path,\n",
    "                                  target_size=(img_size,img_size),\n",
    "                                  batch_size=batch_size,\n",
    "                                  class_mode='categorical')"
   ]
  },
  {
   "cell_type": "code",
   "execution_count": null,
   "id": "6cdfa9df",
   "metadata": {
    "execution": {
     "iopub.execute_input": "2022-12-21T19:30:45.708494Z",
     "iopub.status.busy": "2022-12-21T19:30:45.707819Z",
     "iopub.status.idle": "2022-12-21T19:30:45.719031Z",
     "shell.execute_reply": "2022-12-21T19:30:45.718108Z"
    },
    "papermill": {
     "duration": 0.019937,
     "end_time": "2022-12-21T19:30:45.720945",
     "exception": false,
     "start_time": "2022-12-21T19:30:45.701008",
     "status": "completed"
    },
    "tags": []
   },
   "outputs": [],
   "source": [
    "test_labels = test_data.classes\n",
    "test_labels"
   ]
  },
  {
   "cell_type": "code",
   "execution_count": null,
   "id": "f25ed378",
   "metadata": {
    "execution": {
     "iopub.execute_input": "2022-12-21T19:30:45.734040Z",
     "iopub.status.busy": "2022-12-21T19:30:45.733314Z",
     "iopub.status.idle": "2022-12-21T19:30:49.433964Z",
     "shell.execute_reply": "2022-12-21T19:30:49.433133Z"
    },
    "papermill": {
     "duration": 3.715972,
     "end_time": "2022-12-21T19:30:49.442726",
     "exception": false,
     "start_time": "2022-12-21T19:30:45.726754",
     "status": "completed"
    },
    "tags": []
   },
   "outputs": [],
   "source": [
    "images = [training_data[0][0][0] for i in range(5)]\n",
    "plotImages(images)"
   ]
  },
  {
   "cell_type": "code",
   "execution_count": null,
   "id": "357f8be4",
   "metadata": {
    "execution": {
     "iopub.execute_input": "2022-12-21T19:30:49.469533Z",
     "iopub.status.busy": "2022-12-21T19:30:49.469217Z",
     "iopub.status.idle": "2022-12-21T19:30:49.473475Z",
     "shell.execute_reply": "2022-12-21T19:30:49.472509Z"
    },
    "papermill": {
     "duration": 0.020231,
     "end_time": "2022-12-21T19:30:49.475416",
     "exception": false,
     "start_time": "2022-12-21T19:30:49.455185",
     "status": "completed"
    },
    "tags": []
   },
   "outputs": [],
   "source": [
    "inputshape = (img_size ,img_size , 3)"
   ]
  },
  {
   "cell_type": "code",
   "execution_count": null,
   "id": "711c51bb",
   "metadata": {
    "execution": {
     "iopub.execute_input": "2022-12-21T19:30:49.502198Z",
     "iopub.status.busy": "2022-12-21T19:30:49.501399Z",
     "iopub.status.idle": "2022-12-21T19:30:55.040653Z",
     "shell.execute_reply": "2022-12-21T19:30:55.038108Z"
    },
    "papermill": {
     "duration": 5.555775,
     "end_time": "2022-12-21T19:30:55.043560",
     "exception": false,
     "start_time": "2022-12-21T19:30:49.487785",
     "status": "completed"
    },
    "tags": []
   },
   "outputs": [],
   "source": [
    "model = keras.models.Sequential([\n",
    "    layers.Conv2D(filters = 32 , kernel_size = (3 , 3),activation = 'relu' , input_shape = inputshape),\n",
    "    layers.MaxPooling2D(pool_size = (2,2)),\n",
    "    layers.Conv2D(filters = 64 , kernel_size = (3,3)  , activation ='relu'),\n",
    "    layers.MaxPooling2D(pool_size = (2,2)),\n",
    "    layers.Conv2D(filters = 128 , kernel_size = (3,3) , activation = 'relu'),\n",
    "    layers.MaxPooling2D(pool_size = (2,2)),\n",
    "    layers.Conv2D(filters = 256, kernel_size = (3,3) , activation = 'relu'),\n",
    "    layers.MaxPooling2D(pool_size = (2,2)),\n",
    "    layers.Dropout(0.5),\n",
    "    layers.Flatten(),\n",
    "    layers.Dense(units = 128 , activation = 'relu'),\n",
    "    layers.Dropout(0.1),\n",
    "    layers.Dense(units = 128 , activation = 'relu'),\n",
    "    layers.Dropout(0.25),\n",
    "    layers.Dense(units = 4 , activation = 'softmax'),\n",
    "    \n",
    "])"
   ]
  },
  {
   "cell_type": "code",
   "execution_count": null,
   "id": "c3e13559",
   "metadata": {
    "execution": {
     "iopub.execute_input": "2022-12-21T19:30:55.071729Z",
     "iopub.status.busy": "2022-12-21T19:30:55.071419Z",
     "iopub.status.idle": "2022-12-21T19:30:55.083416Z",
     "shell.execute_reply": "2022-12-21T19:30:55.082563Z"
    },
    "papermill": {
     "duration": 0.027936,
     "end_time": "2022-12-21T19:30:55.085359",
     "exception": false,
     "start_time": "2022-12-21T19:30:55.057423",
     "status": "completed"
    },
    "tags": []
   },
   "outputs": [],
   "source": [
    "model.compile(optimizer=Adam(learning_rate=0.0001),loss='categorical_crossentropy',metrics=['accuracy'])"
   ]
  },
  {
   "cell_type": "code",
   "execution_count": null,
   "id": "d6f7c247",
   "metadata": {
    "execution": {
     "iopub.execute_input": "2022-12-21T19:30:55.113012Z",
     "iopub.status.busy": "2022-12-21T19:30:55.111569Z",
     "iopub.status.idle": "2022-12-21T19:30:55.118058Z",
     "shell.execute_reply": "2022-12-21T19:30:55.117221Z"
    },
    "papermill": {
     "duration": 0.022001,
     "end_time": "2022-12-21T19:30:55.120037",
     "exception": false,
     "start_time": "2022-12-21T19:30:55.098036",
     "status": "completed"
    },
    "tags": []
   },
   "outputs": [],
   "source": [
    "es = keras.callbacks.EarlyStopping(\n",
    "        monitor=\"val_acc\",\n",
    "        patience=10,\n",
    "        verbose=1,\n",
    "        mode=\"max\",\n",
    "        restore_best_weights=True, \n",
    "     )\n",
    "\n",
    "rp = keras.callbacks.ReduceLROnPlateau(\n",
    "        monitor=\"val_acc\",\n",
    "        factor=0.2,\n",
    "        patience=3,\n",
    "        verbose=1,\n",
    "        mode=\"max\",\n",
    "        min_lr=0.00001,\n",
    "     )"
   ]
  },
  {
   "cell_type": "code",
   "execution_count": null,
   "id": "152b0089",
   "metadata": {
    "execution": {
     "iopub.execute_input": "2022-12-21T19:30:55.147979Z",
     "iopub.status.busy": "2022-12-21T19:30:55.146351Z",
     "iopub.status.idle": "2022-12-21T21:42:13.205002Z",
     "shell.execute_reply": "2022-12-21T21:42:13.203903Z"
    },
    "papermill": {
     "duration": 7878.074827,
     "end_time": "2022-12-21T21:42:13.207495",
     "exception": false,
     "start_time": "2022-12-21T19:30:55.132668",
     "status": "completed"
    },
    "tags": []
   },
   "outputs": [],
   "source": [
    "history = model.fit(training_data,validation_data= val_data,callbacks=[es, rp],epochs=50,verbose=1)"
   ]
  },
  {
   "cell_type": "code",
   "execution_count": null,
   "id": "450a1efe",
   "metadata": {
    "execution": {
     "iopub.execute_input": "2022-12-21T21:42:14.708752Z",
     "iopub.status.busy": "2022-12-21T21:42:14.707691Z",
     "iopub.status.idle": "2022-12-21T21:42:14.713115Z",
     "shell.execute_reply": "2022-12-21T21:42:14.712235Z"
    },
    "papermill": {
     "duration": 0.706298,
     "end_time": "2022-12-21T21:42:14.715274",
     "exception": false,
     "start_time": "2022-12-21T21:42:14.008976",
     "status": "completed"
    },
    "tags": []
   },
   "outputs": [],
   "source": [
    "class_names={0:'diseased cotton leaf',1:'diseased cotton plant',2:'fresh cotton leaf',3:'fresh cotton plant'}"
   ]
  },
  {
   "cell_type": "code",
   "execution_count": null,
   "id": "123559d4",
   "metadata": {
    "execution": {
     "iopub.execute_input": "2022-12-21T21:42:16.090236Z",
     "iopub.status.busy": "2022-12-21T21:42:16.089874Z",
     "iopub.status.idle": "2022-12-21T21:42:23.022690Z",
     "shell.execute_reply": "2022-12-21T21:42:23.021728Z"
    },
    "papermill": {
     "duration": 7.653205,
     "end_time": "2022-12-21T21:42:23.024660",
     "exception": false,
     "start_time": "2022-12-21T21:42:15.371455",
     "status": "completed"
    },
    "tags": []
   },
   "outputs": [],
   "source": [
    "test_results=model.evaluate(test_data)\n",
    "print(f'Test results - Loss: {test_results[0]} - Accuracy: {test_results[1]}')\n",
    "print(f'Test loss: {test_results[0]*100:.3f}%')\n",
    "print(f'Test accuracy: {test_results[1]*100:.2f}%')"
   ]
  },
  {
   "cell_type": "code",
   "execution_count": null,
   "id": "ed6fb524",
   "metadata": {
    "execution": {
     "iopub.execute_input": "2022-12-21T21:42:24.383183Z",
     "iopub.status.busy": "2022-12-21T21:42:24.382809Z",
     "iopub.status.idle": "2022-12-21T21:42:30.084282Z",
     "shell.execute_reply": "2022-12-21T21:42:30.083388Z"
    },
    "papermill": {
     "duration": 6.408328,
     "end_time": "2022-12-21T21:42:30.086336",
     "exception": false,
     "start_time": "2022-12-21T21:42:23.678008",
     "status": "completed"
    },
    "tags": []
   },
   "outputs": [],
   "source": [
    "pred=model.predict(test_data)\n",
    "y_pred_classes = [np.argmax(element) for element in pred]\n",
    "y_pred_classes[:20]"
   ]
  },
  {
   "cell_type": "code",
   "execution_count": null,
   "id": "bb4ae0f3",
   "metadata": {
    "execution": {
     "iopub.execute_input": "2022-12-21T21:42:31.445159Z",
     "iopub.status.busy": "2022-12-21T21:42:31.444785Z",
     "iopub.status.idle": "2022-12-21T21:42:31.450373Z",
     "shell.execute_reply": "2022-12-21T21:42:31.449435Z"
    },
    "papermill": {
     "duration": 0.716152,
     "end_time": "2022-12-21T21:42:31.452500",
     "exception": false,
     "start_time": "2022-12-21T21:42:30.736348",
     "status": "completed"
    },
    "tags": []
   },
   "outputs": [],
   "source": [
    "def predict(image_path):\n",
    "    test_image=image.load_img(image_path, target_size =(img_size,img_size) )\n",
    "    plt.imshow(test_image)\n",
    "    test_image = np.expand_dims(test_image, axis = 0)\n",
    "    preds=np.argmax(model.predict(test_image))\n",
    "    print(class_names[preds])\n",
    "    "
   ]
  },
  {
   "cell_type": "code",
   "execution_count": null,
   "id": "ac069f90",
   "metadata": {
    "execution": {
     "iopub.execute_input": "2022-12-21T21:42:32.815207Z",
     "iopub.status.busy": "2022-12-21T21:42:32.814852Z",
     "iopub.status.idle": "2022-12-21T21:42:32.828465Z",
     "shell.execute_reply": "2022-12-21T21:42:32.827492Z"
    },
    "papermill": {
     "duration": 0.726,
     "end_time": "2022-12-21T21:42:32.830477",
     "exception": false,
     "start_time": "2022-12-21T21:42:32.104477",
     "status": "completed"
    },
    "tags": []
   },
   "outputs": [],
   "source": [
    "test_image=image.load_img('C:/Users/sagos/Desktop/Model/CottonDisease/test/diseasedcottonleaf/dis_leaf(1).jpg', target_size = (img_size,img_size))\n",
    "test_image = np.expand_dims(test_image, axis = 0)\n",
    "test_image.shape"
   ]
  },
  {
   "cell_type": "code",
   "execution_count": null,
   "id": "22dac7d5",
   "metadata": {
    "execution": {
     "iopub.execute_input": "2022-12-21T21:42:34.135333Z",
     "iopub.status.busy": "2022-12-21T21:42:34.134969Z",
     "iopub.status.idle": "2022-12-21T21:42:34.681780Z",
     "shell.execute_reply": "2022-12-21T21:42:34.680878Z"
    },
    "papermill": {
     "duration": 1.206376,
     "end_time": "2022-12-21T21:42:34.683833",
     "exception": false,
     "start_time": "2022-12-21T21:42:33.477457",
     "status": "completed"
    },
    "tags": []
   },
   "outputs": [],
   "source": [
    "#diseased cotton leaf\n",
    "predict('C:/Users/sagos/Desktop/Model/CottonDisease/test/diseasedcottonleaf/dis_leaf(1).jpg')"
   ]
  },
  {
   "cell_type": "code",
   "execution_count": null,
   "id": "09c93366",
   "metadata": {
    "execution": {
     "iopub.execute_input": "2022-12-21T21:42:36.147943Z",
     "iopub.status.busy": "2022-12-21T21:42:36.147482Z",
     "iopub.status.idle": "2022-12-21T21:42:36.421327Z",
     "shell.execute_reply": "2022-12-21T21:42:36.420461Z"
    },
    "papermill": {
     "duration": 1.007623,
     "end_time": "2022-12-21T21:42:36.423445",
     "exception": false,
     "start_time": "2022-12-21T21:42:35.415822",
     "status": "completed"
    },
    "tags": []
   },
   "outputs": [],
   "source": [
    "#diseased cotton plant\n",
    "predict('C:/Users/sagos/Desktop/Model/CottonDisease/test/diseasedcottonplant/diseasedplant(1).jpg')"
   ]
  },
  {
   "cell_type": "code",
   "execution_count": null,
   "id": "752203a8",
   "metadata": {
    "execution": {
     "iopub.execute_input": "2022-12-21T21:42:37.807587Z",
     "iopub.status.busy": "2022-12-21T21:42:37.807233Z",
     "iopub.status.idle": "2022-12-21T21:42:38.079422Z",
     "shell.execute_reply": "2022-12-21T21:42:38.078447Z"
    },
    "papermill": {
     "duration": 0.929861,
     "end_time": "2022-12-21T21:42:38.081446",
     "exception": false,
     "start_time": "2022-12-21T21:42:37.151585",
     "status": "completed"
    },
    "tags": []
   },
   "outputs": [],
   "source": [
    "#fresh cotton leaf\n",
    "predict('C:/Users/sagos/Desktop/Model/CottonDisease/test/freshcottonleaf/freshleaf(1).jpg')"
   ]
  },
  {
   "cell_type": "code",
   "execution_count": null,
   "id": "7b535c40",
   "metadata": {
    "execution": {
     "iopub.execute_input": "2022-12-21T21:42:39.457914Z",
     "iopub.status.busy": "2022-12-21T21:42:39.456906Z",
     "iopub.status.idle": "2022-12-21T21:42:39.896156Z",
     "shell.execute_reply": "2022-12-21T21:42:39.895197Z"
    },
    "papermill": {
     "duration": 1.160364,
     "end_time": "2022-12-21T21:42:39.898328",
     "exception": false,
     "start_time": "2022-12-21T21:42:38.737964",
     "status": "completed"
    },
    "tags": []
   },
   "outputs": [],
   "source": [
    "#fresh cotton plant\n",
    "predict('C:/Users/sagos/Desktop/Model/CottonDisease/test/freshcottonplant/freshplant(1).jpg')"
   ]
  },
  {
   "cell_type": "code",
   "execution_count": null,
   "id": "583fd25c",
   "metadata": {
    "execution": {
     "iopub.execute_input": "2022-12-21T21:42:41.554546Z",
     "iopub.status.busy": "2022-12-21T21:42:41.553967Z",
     "iopub.status.idle": "2022-12-21T21:42:41.972009Z",
     "shell.execute_reply": "2022-12-21T21:42:41.971148Z"
    },
    "papermill": {
     "duration": 1.167835,
     "end_time": "2022-12-21T21:42:41.973926",
     "exception": false,
     "start_time": "2022-12-21T21:42:40.806091",
     "status": "completed"
    },
    "tags": []
   },
   "outputs": [],
   "source": [
    "plt.plot(history.history['accuracy'])\n",
    "plt.plot(history.history['val_accuracy'])\n",
    "plt.title('model accuracy')\n",
    "plt.ylabel('accuracy')\n",
    "plt.xlabel('epoch')\n",
    "plt.legend(['acc', 'val_acc'], loc='best')\n",
    "plt.show()\n",
    "\n",
    "plt.plot(history.history['loss'])\n",
    "plt.plot(history.history['val_loss'])\n",
    "plt.title('model loss')\n",
    "plt.ylabel('loss')\n",
    "plt.xlabel('epoch')\n",
    "plt.legend(['loss', 'val_loss'], loc='best')\n",
    "plt.show()"
   ]
  },
  {
   "cell_type": "code",
   "execution_count": null,
   "id": "693640da",
   "metadata": {
    "execution": {
     "iopub.execute_input": "2022-12-21T21:42:43.353758Z",
     "iopub.status.busy": "2022-12-21T21:42:43.352695Z",
     "iopub.status.idle": "2022-12-21T21:42:43.503180Z",
     "shell.execute_reply": "2022-12-21T21:42:43.502189Z"
    },
    "papermill": {
     "duration": 0.869821,
     "end_time": "2022-12-21T21:42:43.505709",
     "exception": false,
     "start_time": "2022-12-21T21:42:42.635888",
     "status": "completed"
    },
    "tags": []
   },
   "outputs": [],
   "source": [
    "model.save('C:/Users/sagos/Desktop/Model/cottondisease.h5')\n",
    "model_json = model.to_json()\n",
    "\n",
    "with open('C:/Users/sagos/Desktop/Model/cottondisease.json', 'w') as json_file:\n",
    "    json_file.write(model_json)\n",
    "\n",
    "model.save_weights('C:/Users/sagos/Desktop/Model/cottondisease.bin')\n"
   ]
  },
  {
   "cell_type": "code",
   "execution_count": null,
   "id": "563b827d",
   "metadata": {
    "execution": {
     "iopub.execute_input": "2022-12-21T21:42:44.819581Z",
     "iopub.status.busy": "2022-12-21T21:42:44.819237Z",
     "iopub.status.idle": "2022-12-21T21:42:44.829611Z",
     "shell.execute_reply": "2022-12-21T21:42:44.828579Z"
    },
    "papermill": {
     "duration": 0.670757,
     "end_time": "2022-12-21T21:42:44.832775",
     "exception": false,
     "start_time": "2022-12-21T21:42:44.162018",
     "status": "completed"
    },
    "tags": []
   },
   "outputs": [],
   "source": [
    "print(classification_report(test_labels, y_pred_classes))"
   ]
  },
  {
   "cell_type": "code",
   "execution_count": null,
   "id": "19161b28",
   "metadata": {},
   "outputs": [],
   "source": []
  },
  {
   "cell_type": "code",
   "execution_count": 5,
   "id": "063df3e8",
   "metadata": {},
   "outputs": [],
   "source": [
    "import tensorflow as tf\n",
    "import json\n",
    "\n",
    "# Load the .h5 model in Keras\n",
    "model = tf.keras.models.load_model('C:/Users/sagos/Desktop/Model/cottondisease.h5')\n",
    "\n",
    "# Convert model architecture to JSON\n",
    "model_json = model.to_json()\n",
    "\n",
    "# Save model architecture as .json file\n",
    "with open('C:/Users/sagos/Desktop/Model/cottondisease.json', 'w') as json_file:\n",
    "    json_file.write(model_json)\n",
    "\n",
    "# Save model weights as .bin file\n",
    "model.save_weights('C:/Users/sagos/Desktop/Model/cottondisease.bin')\n"
   ]
  },
  {
   "cell_type": "code",
   "execution_count": 6,
   "id": "bc075fa8",
   "metadata": {},
   "outputs": [],
   "source": [
    "import json\n",
    "\n",
    "with open('C:/Users/sagos/Desktop/Model/cottondisease.json', 'r') as json_file:\n",
    "    data = json.load(json_file)\n"
   ]
  },
  {
   "cell_type": "code",
   "execution_count": 7,
   "id": "39f42f81",
   "metadata": {},
   "outputs": [],
   "source": [
    "import pickle\n",
    "\n",
    "binary_data = pickle.dumps(data)\n"
   ]
  },
  {
   "cell_type": "code",
   "execution_count": 9,
   "id": "b74be641",
   "metadata": {},
   "outputs": [],
   "source": [
    "with open('C:/Users/sagos/Desktop/Model/cottondisease.bin', 'wb') as bin_file:\n",
    "    bin_file.write(binary_data)\n"
   ]
  },
  {
   "cell_type": "code",
   "execution_count": null,
   "id": "056e3a54",
   "metadata": {},
   "outputs": [],
   "source": []
  }
 ],
 "metadata": {
  "kernelspec": {
   "display_name": "Python 3",
   "language": "python",
   "name": "python3"
  },
  "language_info": {
   "codemirror_mode": {
    "name": "ipython",
    "version": 3
   },
   "file_extension": ".py",
   "mimetype": "text/x-python",
   "name": "python",
   "nbconvert_exporter": "python",
   "pygments_lexer": "ipython3",
   "version": "3.11.0"
  },
  "papermill": {
   "default_parameters": {},
   "duration": 7946.250749,
   "end_time": "2022-12-21T21:42:49.279767",
   "environment_variables": {},
   "exception": null,
   "input_path": "__notebook__.ipynb",
   "output_path": "__notebook__.ipynb",
   "parameters": {},
   "start_time": "2022-12-21T19:30:23.029018",
   "version": "2.3.4"
  }
 },
 "nbformat": 4,
 "nbformat_minor": 5
}
